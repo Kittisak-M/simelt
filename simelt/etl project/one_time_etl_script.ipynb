{
 "cells": [
  {
   "cell_type": "code",
   "execution_count": 11,
   "metadata": {},
   "outputs": [],
   "source": [
    "import mysql.connector\n",
    "from mysql.connector import Error\n",
    "from faker import Faker\n",
    "import random\n",
    "import pandas as pd\n",
    "from sqlalchemy import create_engine\n"
   ]
  },
  {
   "cell_type": "code",
   "execution_count": 12,
   "metadata": {},
   "outputs": [],
   "source": [
    "# Database info\n",
    "host = '127.0.0.1'\n",
    "database = 'supermarket'\n",
    "user = 'root'\n",
    "password = '55427047sS'"
   ]
  },
  {
   "cell_type": "code",
   "execution_count": 24,
   "metadata": {},
   "outputs": [],
   "source": [
    "# append df to my sql\n",
    "def append_dataframe_to_mysql(df, table_name, host, database, user, password):\n",
    "    try:\n",
    "       \n",
    "        connection_string = f\"mysql+mysqlconnector://{user}:{password}@{host}/{database}\"\n",
    "        engine = create_engine(connection_string)\n",
    "        \n",
    "        df.to_sql(name=table_name, con=engine, if_exists='append', index=False)\n",
    "        print(f\"Data successfully appended to '{table_name}' table in {database} database.\")\n",
    "    \n",
    "    except Exception as e:\n",
    "        print(f\"An error occurred: {e}\")\n",
    "\n"
   ]
  },
  {
   "cell_type": "code",
   "execution_count": null,
   "metadata": {},
   "outputs": [],
   "source": [
    "fake = Faker()"
   ]
  },
  {
   "cell_type": "code",
   "execution_count": null,
   "metadata": {},
   "outputs": [],
   "source": [
    "customer_num_records = "
   ]
  },
  {
   "cell_type": "code",
   "execution_count": 25,
   "metadata": {},
   "outputs": [
    {
     "name": "stdout",
     "output_type": "stream",
     "text": [
      "Data successfully appended to 'customers' table in supermarket database.\n"
     ]
    }
   ],
   "source": [
    "# customers table\n",
    "def generate_fake_customers_data(customer_num_records):\n",
    "    customer_data = []\n",
    "    \n",
    "    for _ in range(customer_num_records):\n",
    "        customer = {\n",
    "            'first_name': fake.first_name(),\n",
    "            'last_name': fake.last_name(),\n",
    "            'email': fake.email(),\n",
    "            'phone': fake.phone_number()[:20],  \n",
    "            'address': fake.address(),\n",
    "            'city': fake.city(),\n",
    "            'country': fake.country(),\n",
    "            'registration_date': fake.date_this_decade()\n",
    "        }\n",
    "        customer_data.append(customer)\n",
    "    \n",
    "    return customer_data\n",
    "\n",
    "customers = generate_fake_customers_data(1000)\n",
    "customers_df = pd.DataFrame(customers)\n",
    "\n",
    "append_dataframe_to_mysql(customers_df, 'customers', host, database, user, password)"
   ]
  },
  {
   "cell_type": "code",
   "execution_count": null,
   "metadata": {},
   "outputs": [],
   "source": [
    "# employees table set employees = 50\n",
    "def generate_employees_data(num_records=50): # if you want to random use random.randint(min,max)\n",
    "    employees_data = []\n",
    "    \n",
    "    for _ in range(num_records):\n",
    "        employee = {\n",
    "            'first_name': fake.first_name(),\n",
    "            'last_name': fake.last_name(),\n",
    "            'position': random.choice(['Manager', 'Sales Associate', 'Cashier', 'Stock Clerk', 'Supervisor']),\n",
    "            'branch_id': random.randint(1, 20),  # 20 branches\n",
    "            'salary': round(random.uniform(30000, 90000), 2),\n",
    "            'hire_date': fake.date_this_decade(),\n",
    "            'termination_date': fake.date_between(start_date='-1y', end_date='today') if random.choice([True, False]) else None,\n",
    "            'email': fake.email(),\n",
    "            'phone': fake.phone_number(),\n",
    "            'is_active': random.choice([0, 1])\n",
    "        }\n",
    "        employees_data.append(employee)\n",
    "    \n",
    "    return employees_data\n",
    "\n",
    "employees = generate_employees_data(100)\n",
    "\n",
    "employees_df = pd.DataFrame(employees)\n"
   ]
  }
 ],
 "metadata": {
  "kernelspec": {
   "display_name": "Python 3",
   "language": "python",
   "name": "python3"
  },
  "language_info": {
   "codemirror_mode": {
    "name": "ipython",
    "version": 3
   },
   "file_extension": ".py",
   "mimetype": "text/x-python",
   "name": "python",
   "nbconvert_exporter": "python",
   "pygments_lexer": "ipython3",
   "version": "3.12.6"
  }
 },
 "nbformat": 4,
 "nbformat_minor": 2
}
