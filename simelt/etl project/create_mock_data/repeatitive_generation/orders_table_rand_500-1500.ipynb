{
 "cells": [
  {
   "cell_type": "code",
   "execution_count": 5,
   "metadata": {},
   "outputs": [
    {
     "name": "stdout",
     "output_type": "stream",
     "text": [
      "     order_id  customer_id  payment_id  employee_id  branch_id\n",
      "0           1          922           1            9          8\n",
      "1           2          734           2            8          7\n",
      "2           3          766           3           73         12\n",
      "3           4          109           4           49         19\n",
      "4           5          543           5           51         18\n",
      "..        ...          ...         ...          ...        ...\n",
      "709       710          144         710           28         19\n",
      "710       711          609         711           50         16\n",
      "711       712          772         712           30          1\n",
      "712       713          795         713           11         18\n",
      "713       714          283         714           51         15\n",
      "\n",
      "[714 rows x 5 columns]\n"
     ]
    }
   ],
   "source": [
    "from faker import Faker\n",
    "import pandas as pd\n",
    "import random\n",
    "\n",
    "fake = Faker()\n",
    "\n",
    "def generate_mock_orders(num_orders, num_customers, num_payments, num_employees, num_branches):\n",
    "    orders = []\n",
    "    for _ in range(num_orders):\n",
    "        order = {\n",
    "            \"customer_id\": random.randint(1, num_customers),\n",
    "            \"payment_id\": _ + 1,\n",
    "            \"employee_id\": random.randint(1, num_employees),\n",
    "            \"branch_id\": random.randint(1, num_branches),\n",
    "        }\n",
    "        orders.append(order)\n",
    "    return orders\n",
    "\n",
    "num_customers = 1000\n",
    "\n",
    "num_employees = 100\n",
    "num_branches = 20\n",
    "\n",
    "orders_data = generate_mock_orders(random.randint(500,1500), num_customers, num_employees, num_branches) # random data 500 to 1500 rows\n",
    "\n",
    "orders_df = pd.DataFrame(orders_data)\n",
    "\n",
    "\n"
   ]
  },
  {
   "cell_type": "code",
   "execution_count": null,
   "metadata": {},
   "outputs": [],
   "source": []
  },
  {
   "cell_type": "code",
   "execution_count": null,
   "metadata": {},
   "outputs": [],
   "source": []
  }
 ],
 "metadata": {
  "kernelspec": {
   "display_name": "Python 3",
   "language": "python",
   "name": "python3"
  },
  "language_info": {
   "codemirror_mode": {
    "name": "ipython",
    "version": 3
   },
   "file_extension": ".py",
   "mimetype": "text/x-python",
   "name": "python",
   "nbconvert_exporter": "python",
   "pygments_lexer": "ipython3",
   "version": "3.12.2"
  }
 },
 "nbformat": 4,
 "nbformat_minor": 2
}
