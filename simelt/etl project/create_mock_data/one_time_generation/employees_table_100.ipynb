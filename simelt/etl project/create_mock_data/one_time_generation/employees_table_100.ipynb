{
 "cells": [
  {
   "cell_type": "code",
   "execution_count": null,
   "metadata": {},
   "outputs": [],
   "source": [
    "import pandas as pd\n",
    "import random\n",
    "from faker import Faker\n",
    "\n",
    "fake = Faker()\n",
    "\n",
    "def generate_employees_data(num_records=50):\n",
    "    employees_data = []\n",
    "    \n",
    "    for _ in range(num_records):\n",
    "        employee = {\n",
    "            'first_name': fake.first_name(),\n",
    "            'last_name': fake.last_name(),\n",
    "            'position': random.choice(['Manager', 'Sales Associate', 'Cashier', 'Stock Clerk', 'Supervisor']),\n",
    "            'branch_id': random.randint(1, 20),  # 20 branches\n",
    "            'salary': round(random.uniform(30000, 90000), 2),\n",
    "            'hire_date': fake.date_this_decade(),\n",
    "            'termination_date': fake.date_between(start_date='-1y', end_date='today') if random.choice([True, False]) else None,\n",
    "            'email': fake.email(),\n",
    "            'phone': fake.phone_number(),\n",
    "            'is_active': random.choice([0, 1])\n",
    "        }\n",
    "        employees_data.append(employee)\n",
    "    \n",
    "    return employees_data\n",
    "\n",
    "employees = generate_employees_data(100)\n",
    "\n",
    "employees_df = pd.DataFrame(employees)\n"
   ]
  },
  {
   "cell_type": "code",
   "execution_count": null,
   "metadata": {},
   "outputs": [],
   "source": []
  }
 ],
 "metadata": {
  "language_info": {
   "name": "python"
  }
 },
 "nbformat": 4,
 "nbformat_minor": 2
}
