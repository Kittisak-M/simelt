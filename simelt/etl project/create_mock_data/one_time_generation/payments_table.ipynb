{
 "cells": [
  {
   "cell_type": "code",
   "execution_count": 8,
   "metadata": {},
   "outputs": [],
   "source": [
    "import pandas as pd\n",
    "from faker import Faker\n",
    "import random\n",
    "import numpy as np\n",
    "# Initialize Faker\n",
    "fake = Faker()\n",
    "\n",
    "def create_payments_data(num_records):\n",
    "    data = {\n",
    "        'payment_method': [random.choice(['Credit Card', 'PayPal', 'Bank Transfer', 'Bitcoin','Cash']) for _ in range(num_records)],\n",
    "        'transaction_id': [fake.uuid4() for _ in range(num_records)],\n",
    "        'billing_address': [fake.address() for _ in range(num_records)],\n",
    "        'billing_city': [fake.city() for _ in range(num_records)],\n",
    "        'billing_country': [fake.country() for _ in range(num_records)],\n",
    "        'payment_note': [np.nan] * num_records\n",
    "    }\n",
    "    return pd.DataFrame(data)\n",
    "\n",
    "payments_df = create_payments_data(1000)\n",
    "\n"
   ]
  },
  {
   "cell_type": "code",
   "execution_count": null,
   "metadata": {},
   "outputs": [],
   "source": []
  }
 ],
 "metadata": {
  "kernelspec": {
   "display_name": "Python 3",
   "language": "python",
   "name": "python3"
  },
  "language_info": {
   "codemirror_mode": {
    "name": "ipython",
    "version": 3
   },
   "file_extension": ".py",
   "mimetype": "text/x-python",
   "name": "python",
   "nbconvert_exporter": "python",
   "pygments_lexer": "ipython3",
   "version": "3.12.2"
  }
 },
 "nbformat": 4,
 "nbformat_minor": 2
}
