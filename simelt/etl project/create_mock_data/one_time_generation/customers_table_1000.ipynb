{
 "cells": [
  {
   "cell_type": "code",
   "execution_count": 3,
   "metadata": {},
   "outputs": [],
   "source": [
    "from faker import Faker\n",
    "import random\n",
    "import pandas as pd\n",
    "\n",
    "fake = Faker()\n",
    "\n",
    "def generate_fake_customers_data(num_records):\n",
    "    customer_data = []\n",
    "    \n",
    "    for _ in range(num_records):\n",
    "        customer = {\n",
    "            'first_name': fake.first_name(),\n",
    "            'last_name': fake.last_name(),\n",
    "            'email': fake.email(),\n",
    "            'phone': fake.phone_number(),\n",
    "            'address': fake.address(),\n",
    "            'city': fake.city(),\n",
    "            'country': fake.country(),\n",
    "            'registration_date': fake.date_this_decade()\n",
    "        }\n",
    "        customer_data.append(customer)\n",
    "    \n",
    "    return customer_data\n",
    "\n",
    "customers = generate_fake_customers_data(1000)\n",
    "customers_df = pd.DataFrame(customers)\n"
   ]
  },
  {
   "cell_type": "code",
   "execution_count": null,
   "metadata": {},
   "outputs": [],
   "source": []
  }
 ],
 "metadata": {
  "kernelspec": {
   "display_name": "Python 3",
   "language": "python",
   "name": "python3"
  },
  "language_info": {
   "codemirror_mode": {
    "name": "ipython",
    "version": 3
   },
   "file_extension": ".py",
   "mimetype": "text/x-python",
   "name": "python",
   "nbconvert_exporter": "python",
   "pygments_lexer": "ipython3",
   "version": "3.12.2"
  }
 },
 "nbformat": 4,
 "nbformat_minor": 2
}
