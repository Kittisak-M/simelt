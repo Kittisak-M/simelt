{
 "cells": [
  {
   "cell_type": "code",
   "execution_count": 1,
   "metadata": {},
   "outputs": [],
   "source": [
    "import mysql.connector\n",
    "from mysql.connector import Error\n",
    "from faker import Faker\n",
    "import random\n",
    "import pandas as pd\n",
    "from sqlalchemy import create_engine\n"
   ]
  },
  {
   "cell_type": "code",
   "execution_count": 16,
   "metadata": {},
   "outputs": [],
   "source": [
    "# Database info\n",
    "host = '127.0.0.1'\n",
    "database = 'supermarket'\n",
    "user = 'root'\n",
    "password = '55427047sS'"
   ]
  },
  {
   "cell_type": "code",
   "execution_count": 17,
   "metadata": {},
   "outputs": [],
   "source": [
    "# append df to my sql\n",
    "def append_dataframe_to_mysql(df, table_name, host, database, user, password):\n",
    "    try:\n",
    "       \n",
    "        connection_string = f\"mysql+mysqlconnector://{user}:{password}@{host}/{database}\"\n",
    "        engine = create_engine(connection_string)\n",
    "        \n",
    "        df.to_sql(name=table_name, con=engine, if_exists='append', index=False)\n",
    "        print(f\"Data successfully appended to '{table_name}' table in {database} database.\")\n",
    "    \n",
    "    except Exception as e:\n",
    "        print(f\"An error occurred: {e}\")\n",
    "\n"
   ]
  },
  {
   "cell_type": "code",
   "execution_count": 4,
   "metadata": {},
   "outputs": [],
   "source": [
    "fake = Faker()"
   ]
  },
  {
   "cell_type": "code",
   "execution_count": 25,
   "metadata": {},
   "outputs": [
    {
     "name": "stdout",
     "output_type": "stream",
     "text": [
      "Data successfully appended to 'customers' table in supermarket database.\n"
     ]
    }
   ],
   "source": [
    "# Customers table\n",
    "# **set customers = 1000 **  \n",
    "def generate_fake_customers_data(customer_num_records):\n",
    "    customer_data = []\n",
    "\n",
    "    for _ in range(customer_num_records):\n",
    "        customer = {\n",
    "            'first_name': fake.first_name(),\n",
    "            'last_name': fake.last_name(),\n",
    "            'email': fake.email(),\n",
    "            'phone': fake.phone_number()[:20],  \n",
    "            'address': fake.address(),\n",
    "            'city': fake.city(),\n",
    "            'country': fake.country(),\n",
    "            'registration_date': fake.date_this_decade()\n",
    "        }\n",
    "        customer_data.append(customer)\n",
    "    \n",
    "    return customer_data\n",
    "\n",
    "customers = generate_fake_customers_data(1000)\n",
    "customers_df = pd.DataFrame(customers)\n",
    "\n",
    "append_dataframe_to_mysql(customers_df, 'customers', host, database, user, password)"
   ]
  },
  {
   "cell_type": "code",
   "execution_count": 25,
   "metadata": {},
   "outputs": [
    {
     "name": "stdout",
     "output_type": "stream",
     "text": [
      "Data successfully appended to 'branch' table in supermarket database.\n"
     ]
    }
   ],
   "source": [
    "# Branch table\n",
    "# **set branch = 20 **  \n",
    "# Thai cities to random\n",
    "thai_cities = [\n",
    "    'Bangkok', 'Chiang Mai', 'Phuket', 'Khon Kaen', 'Nakhon Ratchasima',\n",
    "    'Ayutthaya', 'Nakhon Si Thammarat', 'Udon Thani', 'Hua Hin', 'Pattaya',\n",
    "    'Sukhothai', 'Surat Thani', 'Ubon Ratchathani', 'Mae Hong Son', 'Lampang',\n",
    "    'Ratchaburi', 'Nakhon Pathom', 'Songkhla', 'Loei', 'Trat', 'Chonburi',\n",
    "    'Samut Prakan', 'Nonthaburi', 'Pathum Thani', 'Prachuap Khiri Khan', 'Phetchaburi',\n",
    "    'Nakhon Nayok', 'Uttaradit', 'Kamphaeng Phet', 'Yasothon', 'Amnat Charoen',\n",
    "    'Roi Et', 'Kalasin', 'Mukdahan', 'Sakon Nakhon', 'Saraburi',\n",
    "    'Suphan Buri', 'Lopburi', 'Nakhon Phanom', 'Chaiyaphum', 'Buriram'\n",
    "]\n",
    "\n",
    "def generate_fake_branch_data(num_records):\n",
    "    branch_data = []\n",
    "    for _ in range(num_records):\n",
    "        branch = {\n",
    "            'branch_type': random.choice(['standalone', 'in_shopping_mall', 'in_community_mall', 'small_shop']),\n",
    "            'city': random.choice(thai_cities),  # Random cities from list\n",
    "            'country': 'Thailand',\n",
    "            'phone_number': fake.phone_number(),\n",
    "            'shop_open_date': fake.date_this_decade()\n",
    "        }\n",
    "        branch_data.append(branch)\n",
    "    return branch_data\n",
    "\n",
    "branches = generate_fake_branch_data(20) # number of records\n",
    "branches_df = pd.DataFrame(branches)\n",
    "append_dataframe_to_mysql(branches_df, 'branch',host, database, user, password)"
   ]
  },
  {
   "cell_type": "code",
   "execution_count": 30,
   "metadata": {},
   "outputs": [
    {
     "name": "stdout",
     "output_type": "stream",
     "text": [
      "Data successfully appended to 'employees' table in supermarket database.\n"
     ]
    }
   ],
   "source": [
    "# Employees table \n",
    "# set = 50 employees\n",
    "def generate_employees_data(num_records=50): # if you want to random use random.randint(min,max)\n",
    "    employees_data = []\n",
    "    \n",
    "    for _ in range(num_records):\n",
    "        employee = {\n",
    "            'first_name': fake.first_name(),\n",
    "            'last_name': fake.last_name(),\n",
    "            'position': random.choice(['Manager', 'Sales Associate', 'Cashier', 'Stock Clerk', 'Supervisor']),\n",
    "            'branch_id': random.randint(1, 20),  # 20 branches\n",
    "            'salary': round(random.uniform(30000, 90000), 2),\n",
    "            'hire_date': fake.date_this_decade(),\n",
    "            'termination_date': fake.date_between(start_date='-1y', end_date='today') if random.choice([True, False]) else None,\n",
    "            'email': fake.email(),\n",
    "            'phone': fake.phone_number(),\n",
    "            'is_active': random.choice([0, 1])\n",
    "        }\n",
    "        employees_data.append(employee)\n",
    "    \n",
    "    return employees_data\n",
    "\n",
    "employees = generate_employees_data(100)\n",
    "\n",
    "employees_df = pd.DataFrame(employees)\n",
    "\n",
    "append_dataframe_to_mysql(employees_df, 'employees', host, database, user, password)"
   ]
  },
  {
   "cell_type": "code",
   "execution_count": 34,
   "metadata": {},
   "outputs": [
    {
     "name": "stdout",
     "output_type": "stream",
     "text": [
      "Data successfully appended to 'suppliers' table in supermarket database.\n"
     ]
    }
   ],
   "source": [
    "# product table\n",
    "# set = 20 values\n",
    "def generate_fake_supplier_data(num_records):\n",
    "    supplier_data = []\n",
    "    \n",
    "    for _ in range(num_records):\n",
    "        supplier = {\n",
    "            'supplier_name': fake.company(),\n",
    "            'contact_name': fake.name(),\n",
    "            'contact_email': fake.email(),\n",
    "            'contact_phone': fake.phone_number(),\n",
    "            'address': fake.address(),\n",
    "            'city': fake.city(),\n",
    "            'country': fake.country()\n",
    "        }\n",
    "        supplier_data.append(supplier)\n",
    "    \n",
    "    return supplier_data\n",
    "\n",
    "suppliers = generate_fake_supplier_data(20)\n",
    "suppliers_df = pd.DataFrame(suppliers)\n",
    "\n",
    "append_dataframe_to_mysql(suppliers_df, 'suppliers', host, database, user, password)"
   ]
  },
  {
   "cell_type": "code",
   "execution_count": 37,
   "metadata": {},
   "outputs": [
    {
     "name": "stdout",
     "output_type": "stream",
     "text": [
      "Data successfully appended to 'products' table in supermarket database.\n"
     ]
    }
   ],
   "source": [
    "# Product to category mapping\n",
    "product_to_category = {\n",
    "    # Fruits\n",
    "    'Apple': 'Fruits',\n",
    "    'Banana': 'Fruits',\n",
    "    'Orange': 'Fruits',\n",
    "    'Grapes': 'Fruits',\n",
    "    'Strawberry': 'Fruits',\n",
    "    'Blueberry': 'Fruits',\n",
    "    'Pineapple': 'Fruits',\n",
    "    'Mango': 'Fruits',\n",
    "    'Peach': 'Fruits',\n",
    "    'Cherry': 'Fruits',\n",
    "    \n",
    "    # Dairy\n",
    "    'Milk': 'Dairy',\n",
    "    'Cheese': 'Dairy',\n",
    "    'Yogurt': 'Dairy',\n",
    "    'Butter': 'Dairy',\n",
    "    'Cream': 'Dairy',\n",
    "    'Cottage Cheese': 'Dairy',\n",
    "    \n",
    "    # Bakery\n",
    "    'Bread': 'Bakery',\n",
    "    'Croissant': 'Bakery',\n",
    "    'Bagels': 'Bakery',\n",
    "    'Muffins': 'Bakery',\n",
    "    'Donuts': 'Bakery',\n",
    "    \n",
    "    # Meat\n",
    "    'Chicken Breast': 'Meat',\n",
    "    'Ground Beef': 'Meat',\n",
    "    'Pork Chops': 'Meat',\n",
    "    'Steak': 'Meat',\n",
    "    'Sausages': 'Meat',\n",
    "    \n",
    "    # Grains\n",
    "    'Rice': 'Grains',\n",
    "    'Pasta': 'Grains',\n",
    "    'Quinoa': 'Grains',\n",
    "    'Oats': 'Grains',\n",
    "    'Barley': 'Grains',\n",
    "    \n",
    "    # Beverages\n",
    "    'Soda': 'Beverages',\n",
    "    'Orange Juice': 'Beverages',\n",
    "    'Coffee': 'Beverages',\n",
    "    'Tea': 'Beverages',\n",
    "    'Water': 'Beverages',\n",
    "    \n",
    "    # Snacks\n",
    "    'Chips': 'Snacks',\n",
    "    'Pretzels': 'Snacks',\n",
    "    'Nuts': 'Snacks',\n",
    "    'Granola Bars': 'Snacks',\n",
    "    'Cookies': 'Snacks',\n",
    "    \n",
    "    # Frozen Foods\n",
    "    'Frozen Pizza': 'Frozen Foods',\n",
    "    'Ice Cream': 'Frozen Foods',\n",
    "    'Frozen Vegetables': 'Frozen Foods',\n",
    "    'Frozen Fries': 'Frozen Foods',\n",
    "    'Frozen Berries': 'Frozen Foods',\n",
    "    \n",
    "    # Condiments\n",
    "    'Ketchup': 'Condiments',\n",
    "    'Mustard': 'Condiments',\n",
    "    'Mayonnaise': 'Condiments',\n",
    "    'Barbecue Sauce': 'Condiments',\n",
    "    'Soy Sauce': 'Condiments',\n",
    "    \n",
    "    # Household Supplies\n",
    "    'Toilet Paper': 'Household Supplies',\n",
    "    'Paper Towels': 'Household Supplies',\n",
    "    'Laundry Detergent': 'Household Supplies',\n",
    "    'Dish Soap': 'Household Supplies',\n",
    "    'Cleaning Spray': 'Household Supplies',\n",
    "    \n",
    "    # Personal Care\n",
    "    'Shampoo': 'Personal Care',\n",
    "    'Conditioner': 'Personal Care',\n",
    "    'Toothpaste': 'Personal Care',\n",
    "    'Soap': 'Personal Care',\n",
    "    'Deodorant': 'Personal Care',\n",
    "    \n",
    "    # Health Foods\n",
    "    'Almond Milk': 'Health Foods',\n",
    "    'Chia Seeds': 'Health Foods',\n",
    "    'Spirulina': 'Health Foods',\n",
    "    'Acai Berries': 'Health Foods',\n",
    "    'Goji Berries': 'Health Foods'\n",
    "}\n",
    "\n",
    "def generate_all_products_data():\n",
    "    product_data = []\n",
    "    \n",
    "    for product_name, category_name in product_to_category.items():\n",
    "        product = {\n",
    "            'product_name': product_name,\n",
    "            'category_name': category_name\n",
    "    \n",
    "        }\n",
    "        product_data.append(product)\n",
    "    \n",
    "    return product_data\n",
    "\n",
    "\n",
    "products = generate_all_products_data()\n",
    "\n",
    "products_df = pd.DataFrame(products)\n",
    "\n",
    "append_dataframe_to_mysql(products_df, 'products', host, database, user, password)"
   ]
  },
  {
   "cell_type": "code",
   "execution_count": 38,
   "metadata": {},
   "outputs": [
    {
     "name": "stdout",
     "output_type": "stream",
     "text": [
      "Data successfully appended to 'inventory' table in supermarket database.\n"
     ]
    }
   ],
   "source": [
    "# inventory table\n",
    "# everystore has the same items\n",
    "def create_inventory_data(num_branches, num_products):\n",
    "    data = {\n",
    "        'product_id': [],\n",
    "        'branch_id': [],\n",
    "        'quantity': [],\n",
    "        'last_updated': []\n",
    "    }\n",
    "\n",
    "    for branch in range(1, num_branches + 1):\n",
    "        for product in range(1, num_products + 1):\n",
    "            data['product_id'].append(product)\n",
    "            data['branch_id'].append(branch)\n",
    "            data['quantity'].append(random.randint(0, 1000))  \n",
    "            data['last_updated'].append(fake.date_this_year()) \n",
    "\n",
    "    return pd.DataFrame(data)\n",
    "\n",
    "inventory_df = create_inventory_data(20, 66)\n",
    "\n",
    "append_dataframe_to_mysql(inventory_df, 'inventory', host, database, user, password)"
   ]
  },
  {
   "cell_type": "code",
   "execution_count": null,
   "metadata": {},
   "outputs": [],
   "source": [
    "def "
   ]
  }
 ],
 "metadata": {
  "kernelspec": {
   "display_name": "Python 3",
   "language": "python",
   "name": "python3"
  },
  "language_info": {
   "codemirror_mode": {
    "name": "ipython",
    "version": 3
   },
   "file_extension": ".py",
   "mimetype": "text/x-python",
   "name": "python",
   "nbconvert_exporter": "python",
   "pygments_lexer": "ipython3",
   "version": "3.12.6"
  }
 },
 "nbformat": 4,
 "nbformat_minor": 2
}
