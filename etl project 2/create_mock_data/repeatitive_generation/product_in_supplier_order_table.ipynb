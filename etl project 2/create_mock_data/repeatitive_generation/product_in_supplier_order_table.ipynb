{
 "cells": [
  {
   "cell_type": "code",
   "execution_count": 1,
   "metadata": {},
   "outputs": [
    {
     "name": "stdout",
     "output_type": "stream",
     "text": [
      "   suppiler_purchase_order_id  suppiler_id  product_id arrival_date  quantity  \\\n",
      "0                         336           23         396   2024-09-04       184   \n",
      "1                         896           23         310   2023-11-29       361   \n",
      "2                         377           87         358   2023-06-21       232   \n",
      "3                         188           64         431   2024-06-06       348   \n",
      "4                          35          100         275   2022-10-15       271   \n",
      "\n",
      "   unit_price  \n",
      "0      471.02  \n",
      "1       83.62  \n",
      "2      137.41  \n",
      "3        5.23  \n",
      "4      367.25  \n"
     ]
    }
   ],
   "source": [
    "import pandas as pd\n",
    "import random\n",
    "from faker import Faker\n",
    "fake = Faker()\n",
    "\n",
    "def generate_data(num_rows):\n",
    "    data = {\n",
    "        'suppiler_id': [fake.random_int(min=1, max=20) for _ in range(num_rows)],\n",
    "        'product_id': [fake.random_int(min=1, max=66) for _ in range(num_rows)], \n",
    "        'arrival_date': [fake.date_between(start_date='-2y', end_date='today') for _ in range(num_rows)],\n",
    "        'quantity': [fake.random_int(min=1, max=500) for _ in range(num_rows)],\n",
    "        'unit_price': [round(random.uniform(5, 500), 2) for _ in range(num_rows)]\n",
    "    }\n",
    "    return pd.DataFrame(data)\n",
    "\n",
    "num_rows = 1000\n",
    "product_in_supplier_orders_df = generate_data(num_rows)"
   ]
  }
 ],
 "metadata": {
  "kernelspec": {
   "display_name": "Python 3",
   "language": "python",
   "name": "python3"
  },
  "language_info": {
   "codemirror_mode": {
    "name": "ipython",
    "version": 3
   },
   "file_extension": ".py",
   "mimetype": "text/x-python",
   "name": "python",
   "nbconvert_exporter": "python",
   "pygments_lexer": "ipython3",
   "version": "3.12.6"
  }
 },
 "nbformat": 4,
 "nbformat_minor": 2
}
