{
 "cells": [
  {
   "cell_type": "code",
   "execution_count": 2,
   "metadata": {},
   "outputs": [],
   "source": [
    "from faker import Faker\n",
    "import pandas as pd\n",
    "import random\n",
    "from datetime import datetime, timedelta\n",
    "\n",
    "fake = Faker()\n",
    "\n",
    "def generate_mock_products_in_customers_orders(num_entries, num_orders, num_products):\n",
    "    entries = []\n",
    "    for _ in range(num_entries):\n",
    "        entry = {\n",
    "            \"product_id\": random.randint(1, num_products),\n",
    "            \"order_date\": fake.date_this_decade(),\n",
    "            \"amount\": round(random.uniform(5.00, 500.00), 2),\n",
    "            \"quantities\": random.randint(1, 20)\n",
    "        }\n",
    "        entries.append(entry)\n",
    "    return entries\n",
    "\n",
    "\n",
    "num_orders = 100  \n",
    "num_products = 50 \n",
    "\n",
    "products_in_customers_orders_data = generate_mock_products_in_customers_orders(100, num_orders, num_products)\n",
    "\n",
    "products_in_customers_orders_df = pd.DataFrame(products_in_customers_orders_data)\n"
   ]
  },
  {
   "cell_type": "code",
   "execution_count": null,
   "metadata": {},
   "outputs": [],
   "source": []
  }
 ],
 "metadata": {
  "kernelspec": {
   "display_name": "Python 3",
   "language": "python",
   "name": "python3"
  },
  "language_info": {
   "codemirror_mode": {
    "name": "ipython",
    "version": 3
   },
   "file_extension": ".py",
   "mimetype": "text/x-python",
   "name": "python",
   "nbconvert_exporter": "python",
   "pygments_lexer": "ipython3",
   "version": "3.12.2"
  }
 },
 "nbformat": 4,
 "nbformat_minor": 2
}
