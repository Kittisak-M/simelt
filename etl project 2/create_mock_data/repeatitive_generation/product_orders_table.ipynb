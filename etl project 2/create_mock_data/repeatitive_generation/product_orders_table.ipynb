{
 "cells": [
  {
   "cell_type": "code",
   "execution_count": 1,
   "metadata": {},
   "outputs": [],
   "source": [
    "import pandas as pd\n",
    "from faker import Faker\n",
    "fake = Faker()\n",
    "\n",
    "def generate_product_orders_data(num_rows):\n",
    "    data = {\n",
    "        'suppiler_purchase_order_id': [i for i in range(1, num_rows+1)],\n",
    "        'employee_id': [fake.random_int(min=1, max=50) for _ in range(num_rows)],\n",
    "        'branch_id': [fake.random_int(min=1, max=10) for _ in range(num_rows)],\n",
    "        'order_date': [fake.date_between(start_date='-2y', end_date='today') for _ in range(num_rows)]\n",
    "    }\n",
    "    return pd.DataFrame(data)\n",
    "\n",
    "num_rows = 1000\n",
    "product_orders_df = generate_product_orders_data(num_rows)"
   ]
  },
  {
   "cell_type": "code",
   "execution_count": null,
   "metadata": {},
   "outputs": [],
   "source": []
  }
 ],
 "metadata": {
  "kernelspec": {
   "display_name": "Python 3",
   "language": "python",
   "name": "python3"
  },
  "language_info": {
   "codemirror_mode": {
    "name": "ipython",
    "version": 3
   },
   "file_extension": ".py",
   "mimetype": "text/x-python",
   "name": "python",
   "nbconvert_exporter": "python",
   "pygments_lexer": "ipython3",
   "version": "3.12.6"
  }
 },
 "nbformat": 4,
 "nbformat_minor": 2
}
