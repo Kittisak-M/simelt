{
 "cells": [
  {
   "cell_type": "code",
   "execution_count": 3,
   "metadata": {},
   "outputs": [],
   "source": [
    "from faker import Faker\n",
    "import random\n",
    "import pandas as pd\n",
    "\n",
    "\n",
    "fake = Faker()\n",
    "\n",
    "# Thai cities to random\n",
    "thai_cities = [\n",
    "    'Bangkok', 'Chiang Mai', 'Phuket', 'Khon Kaen', 'Nakhon Ratchasima',\n",
    "    'Ayutthaya', 'Nakhon Si Thammarat', 'Udon Thani', 'Hua Hin', 'Pattaya',\n",
    "    'Sukhothai', 'Surat Thani', 'Ubon Ratchathani', 'Mae Hong Son', 'Lampang',\n",
    "    'Ratchaburi', 'Nakhon Pathom', 'Songkhla', 'Loei', 'Trat', 'Chonburi',\n",
    "    'Samut Prakan', 'Nonthaburi', 'Pathum Thani', 'Prachuap Khiri Khan', 'Phetchaburi',\n",
    "    'Nakhon Nayok', 'Uttaradit', 'Kamphaeng Phet', 'Yasothon', 'Amnat Charoen',\n",
    "    'Roi Et', 'Kalasin', 'Mukdahan', 'Sakon Nakhon', 'Saraburi',\n",
    "    'Suphan Buri', 'Lopburi', 'Nakhon Phanom', 'Chaiyaphum', 'Buriram'\n",
    "]\n",
    "\n",
    "def generate_fake_branch_data(num_records):\n",
    "    branch_data = []\n",
    "    for _ in range(num_records):\n",
    "        branch = {\n",
    "            'branch_type': random.choice(['standalone', 'in_shopping_mall', 'in_community_mall', 'small_shop']),\n",
    "            'city': random.choice(thai_cities),  # Random cities from list\n",
    "            'country': 'Thailand',\n",
    "            'phone_number': fake.phone_number(),\n",
    "            'created_date': fake.date_this_decade()\n",
    "        }\n",
    "        branch_data.append(branch)\n",
    "    return branch_data\n",
    "\n",
    "branches = generate_fake_branch_data(20) # number of records\n",
    "branches_df = pd.DataFrame(branches)"
   ]
  },
  {
   "cell_type": "code",
   "execution_count": null,
   "metadata": {},
   "outputs": [],
   "source": []
  }
 ],
 "metadata": {
  "kernelspec": {
   "display_name": "Python 3",
   "language": "python",
   "name": "python3"
  },
  "language_info": {
   "codemirror_mode": {
    "name": "ipython",
    "version": 3
   },
   "file_extension": ".py",
   "mimetype": "text/x-python",
   "name": "python",
   "nbconvert_exporter": "python",
   "pygments_lexer": "ipython3",
   "version": "3.12.2"
  }
 },
 "nbformat": 4,
 "nbformat_minor": 2
}
