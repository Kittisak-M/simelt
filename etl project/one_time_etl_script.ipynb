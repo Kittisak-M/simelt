{
 "cells": [
  {
   "cell_type": "code",
   "execution_count": 5,
   "metadata": {},
   "outputs": [],
   "source": [
    "import mysql.connector\n",
    "from mysql.connector import Error\n",
    "from faker import Faker\n",
    "import random\n",
    "import pandas as pd\n",
    "from sqlalchemy import create_engine\n"
   ]
  },
  {
   "cell_type": "code",
   "execution_count": 1,
   "metadata": {},
   "outputs": [],
   "source": [
    "# Database info\n",
    "host = '127.0.0.1'\n",
    "database = 'supermarket'\n",
    "user = 'root'\n",
    "password = '55427047'#password"
   ]
  },
  {
   "cell_type": "code",
   "execution_count": 6,
   "metadata": {},
   "outputs": [],
   "source": [
    "# append df to my sql\n",
    "def append_dataframe_to_mysql(df, table_name, host, database, user, password):\n",
    "    try:\n",
    "       \n",
    "        connection_string = f\"mysql+mysqlconnector://{user}:{password}@{host}/{database}\"\n",
    "        engine = create_engine(connection_string)\n",
    "        \n",
    "        df.to_sql(name=table_name, con=engine, if_exists='append', index=False)\n",
    "        print(f\"Data successfully appended to '{table_name}' table in {database} database.\")\n",
    "    \n",
    "    except Exception as e:\n",
    "        print(f\"An error occurred: {e}\")\n",
    "\n"
   ]
  },
  {
   "cell_type": "code",
   "execution_count": 7,
   "metadata": {},
   "outputs": [],
   "source": [
    "fake = Faker()"
   ]
  },
  {
   "cell_type": "code",
   "execution_count": null,
   "metadata": {},
   "outputs": [],
   "source": [
    "customer_num_records = "
   ]
  },
  {
   "cell_type": "code",
   "execution_count": 8,
   "metadata": {},
   "outputs": [
    {
     "name": "stdout",
     "output_type": "stream",
     "text": [
      "An error occurred: (mysql.connector.errors.DataError) 1406 (22001): Data too long for column 'country' at row 284\n",
      "[SQL: INSERT INTO customers (first_name, last_name, email, phone, address, city, country, registration_date) VALUES (%(first_name)s, %(last_name)s, %(email)s, %(phone)s, %(address)s, %(city)s, %(country)s, %(registration_date)s)]\n",
      "[parameters: ({'first_name': 'Travis', 'last_name': 'Taylor', 'email': 'josephlong@example.com', 'phone': '(626)865-7602', 'address': '66056 Johnson Prairie\\nPort Timothy, KS 46423', 'city': 'South Robert', 'country': 'Mauritania', 'registration_date': datetime.date(2024, 3, 7)}, {'first_name': 'Adam', 'last_name': 'Thompson', 'email': 'monica87@example.org', 'phone': '(485)603-8427x4951', 'address': '55555 Timothy Common Apt. 263\\nDayport, KY 73895', 'city': 'Amystad', 'country': 'Mayotte', 'registration_date': datetime.date(2021, 8, 31)}, {'first_name': 'Laurie', 'last_name': 'Ramirez', 'email': 'crosslauren@example.net', 'phone': '(994)264-2537', 'address': 'Unit 5496 Box 1774\\nDPO AP 50265', 'city': 'Mccormickside', 'country': 'Thailand', 'registration_date': datetime.date(2024, 3, 21)}, {'first_name': 'Austin', 'last_name': 'Fritz', 'email': 'mariahdouglas@example.com', 'phone': '(981)390-3547x2263', 'address': '7667 Jones Pines\\nMillerburgh, IL 80225', 'city': 'East Oliviatown', 'country': 'Lithuania', 'registration_date': datetime.date(2024, 5, 7)}, {'first_name': 'Kyle', 'last_name': 'Kramer', 'email': 'dcarpenter@example.com', 'phone': '7968179011', 'address': '3384 Zachary Coves Apt. 359\\nRobinsonport, MO 74452', 'city': 'West Johnchester', 'country': 'Switzerland', 'registration_date': datetime.date(2020, 4, 24)}, {'first_name': 'Jennifer', 'last_name': 'Ford', 'email': 'carterchristy@example.org', 'phone': '217-363-1987', 'address': '171 Cardenas Street Apt. 064\\nEdwinport, SD 74196', 'city': 'Jasonland', 'country': 'Bermuda', 'registration_date': datetime.date(2023, 1, 11)}, {'first_name': 'Tamara', 'last_name': 'Edwards', 'email': 'umarks@example.com', 'phone': '(850)358-6837', 'address': '0868 Collins Station Apt. 901\\nJessetown, WI 29019', 'city': 'East Jennifer', 'country': 'Ghana', 'registration_date': datetime.date(2021, 6, 21)}, {'first_name': 'Michelle', 'last_name': 'Lee', 'email': 'hicksmary@example.com', 'phone': '235.221.7755x833', 'address': 'PSC 0611, Box 2907\\nAPO AE 43844', 'city': 'South Jon', 'country': 'Italy', 'registration_date': datetime.date(2022, 11, 20)}  ... displaying 10 of 1000 total bound parameter sets ...  {'first_name': 'Donald', 'last_name': 'Garcia', 'email': 'frussell@example.org', 'phone': '488.674.9964x24056', 'address': '6210 Carrie Throughway\\nEast Lucas, NJ 34672', 'city': 'Greeneton', 'country': 'Mali', 'registration_date': datetime.date(2021, 2, 28)}, {'first_name': 'Taylor', 'last_name': 'Fox', 'email': 'susanshaffer@example.org', 'phone': '522-577-1661x645', 'address': '85166 Jordan Roads\\nHowardchester, SC 11562', 'city': 'East Reginaldville', 'country': 'Mozambique', 'registration_date': datetime.date(2020, 2, 1)})]\n",
      "(Background on this error at: https://sqlalche.me/e/14/9h9h)\n"
     ]
    }
   ],
   "source": [
    "# customers table\n",
    "def generate_fake_customers_data(customer_num_records):\n",
    "    customer_data = []\n",
    "    \n",
    "    for _ in range(customer_num_records):\n",
    "        customer = {\n",
    "            'first_name': fake.first_name(),\n",
    "            'last_name': fake.last_name(),\n",
    "            'email': fake.email(),\n",
    "            'phone': fake.phone_number()[:20],  \n",
    "            'address': fake.address(),\n",
    "            'city': fake.city(),\n",
    "            'country': fake.country(),\n",
    "            'registration_date': fake.date_this_decade()\n",
    "        }\n",
    "        customer_data.append(customer)\n",
    "    \n",
    "    return customer_data\n",
    "\n",
    "customers = generate_fake_customers_data(1000)\n",
    "customers_df = pd.DataFrame(customers)\n",
    "\n",
    "append_dataframe_to_mysql(customers_df, 'customers', host, database, user, password)"
   ]
  },
  {
   "cell_type": "code",
   "execution_count": null,
   "metadata": {},
   "outputs": [],
   "source": [
    "# employees table set employees = 50\n",
    "def generate_employees_data(num_records=50): # if you want to random use random.randint(min,max)\n",
    "    employees_data = []\n",
    "    \n",
    "    for _ in range(num_records):\n",
    "        employee = {\n",
    "            'first_name': fake.first_name(),\n",
    "            'last_name': fake.last_name(),\n",
    "            'position': random.choice(['Manager', 'Sales Associate', 'Cashier', 'Stock Clerk', 'Supervisor']),\n",
    "            'branch_id': random.randint(1, 20),  # 20 branches\n",
    "            'salary': round(random.uniform(30000, 90000), 2),\n",
    "            'hire_date': fake.date_this_decade(),\n",
    "            'termination_date': fake.date_between(start_date='-1y', end_date='today') if random.choice([True, False]) else None,\n",
    "            'email': fake.email(),\n",
    "            'phone': fake.phone_number(),\n",
    "            'is_active': random.choice([0, 1])\n",
    "        }\n",
    "        employees_data.append(employee)\n",
    "    \n",
    "    return employees_data\n",
    "\n",
    "employees = generate_employees_data(100)\n",
    "\n",
    "employees_df = pd.DataFrame(employees)\n"
   ]
  }
 ],
 "metadata": {
  "kernelspec": {
   "display_name": "Python 3",
   "language": "python",
   "name": "python3"
  },
  "language_info": {
   "codemirror_mode": {
    "name": "ipython",
    "version": 3
   },
   "file_extension": ".py",
   "mimetype": "text/x-python",
   "name": "python",
   "nbconvert_exporter": "python",
   "pygments_lexer": "ipython3",
   "version": "3.12.2"
  }
 },
 "nbformat": 4,
 "nbformat_minor": 2
}
